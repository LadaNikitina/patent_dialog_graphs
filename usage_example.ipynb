{
 "cells": [
  {
   "cell_type": "markdown",
   "id": "57ed936f",
   "metadata": {},
   "source": [
    "# Первый модуль. Пример использования"
   ]
  },
  {
   "cell_type": "markdown",
   "id": "90c7ab1e",
   "metadata": {},
   "source": [
    "На вход подаются следующие параметры:\n",
    "- Число ролей (на данный момент поддерживаются одна и две роли соответственно)\n",
    "- Путь к датасету в формате json, представляющему собой список диалогов:  *List[Dict[String, List]]*, со\n",
    "- *Dict[String, List]* имеет два ключа и задает ровно один диалог:\n",
    "    - Ключ utterance, значение - список реплик диалога\n",
    "    - Ключ speaker, значение - список ролей. На i-ой позиции номер роли участника диалога, которому принадлежит i-ая реплика\n",
    "    - 0 - user, 1 - system\n",
    "- Язык датасета\n",
    "- Число кластеров для автопостроения диалогового графа"
   ]
  },
  {
   "cell_type": "code",
   "execution_count": 1,
   "id": "d187efbd",
   "metadata": {},
   "outputs": [
    {
     "name": "stdout",
     "output_type": "stream",
     "text": [
      "The data is loading...\n",
      "The embeddings are loading...\n",
      "==============================WARNING: DEPRECATED!==============================\n",
      "WARNING! This version of bitsandbytes is deprecated. Please switch to `pip install bitsandbytes` and the new repo: https://github.com/TimDettmers/bitsandbytes\n",
      "==============================WARNING: DEPRECATED!==============================\n",
      "The first stage of clustering has begun...\n",
      "Clustering 56261 points in 768D to 200 clusters, redo 1 times, 25 iterations\n",
      "  Preprocessing in 0.03 s\n",
      "  Iteration 24 (7.32 s, search 7.08 s): objective=14159.7 imbalance=2.556 nsplit=0       \n",
      "Clustering 56261 points in 768D to 200 clusters, redo 1 times, 25 iterations\n",
      "  Preprocessing in 0.03 s\n",
      "  Iteration 24 (7.28 s, search 7.05 s): objective=26829.2 imbalance=1.079 nsplit=0       \n",
      "The second stage of clustering has begun...\n"
     ]
    },
    {
     "name": "stderr",
     "output_type": "stream",
     "text": [
      "WARNING clustering 200 points to 30 centroids: please provide at least 300 training points\n",
      "WARNING clustering 200 points to 30 centroids: please provide at least 300 training points\n"
     ]
    },
    {
     "name": "stdout",
     "output_type": "stream",
     "text": [
      "The searching clusters for validation has begun...\n"
     ]
    },
    {
     "name": "stderr",
     "output_type": "stream",
     "text": [
      "440it [00:14, 30.62it/s]\n"
     ]
    },
    {
     "name": "stdout",
     "output_type": "stream",
     "text": [
      "Epoch 0, train loss 2.7261, valid loss 2.8044\n"
     ]
    },
    {
     "name": "stderr",
     "output_type": "stream",
     "text": [
      "440it [00:12, 34.92it/s]\n"
     ]
    },
    {
     "name": "stdout",
     "output_type": "stream",
     "text": [
      "Epoch 1, train loss 2.4447, valid loss 2.6467\n"
     ]
    },
    {
     "name": "stderr",
     "output_type": "stream",
     "text": [
      "440it [00:11, 37.79it/s]\n"
     ]
    },
    {
     "name": "stdout",
     "output_type": "stream",
     "text": [
      "Epoch 2, train loss 2.3376, valid loss 2.5993\n"
     ]
    },
    {
     "name": "stderr",
     "output_type": "stream",
     "text": [
      "440it [00:12, 34.67it/s]\n"
     ]
    },
    {
     "name": "stdout",
     "output_type": "stream",
     "text": [
      "Epoch 3, train loss 2.2820, valid loss 2.5586\n"
     ]
    },
    {
     "name": "stderr",
     "output_type": "stream",
     "text": [
      "440it [00:12, 35.21it/s]\n"
     ]
    },
    {
     "name": "stdout",
     "output_type": "stream",
     "text": [
      "Epoch 4, train loss 2.2478, valid loss 2.5387\n"
     ]
    },
    {
     "name": "stderr",
     "output_type": "stream",
     "text": [
      "440it [00:12, 34.57it/s]\n"
     ]
    },
    {
     "name": "stdout",
     "output_type": "stream",
     "text": [
      "Epoch 5, train loss 2.2231, valid loss 2.5149\n"
     ]
    },
    {
     "name": "stderr",
     "output_type": "stream",
     "text": [
      "440it [00:12, 34.85it/s]\n"
     ]
    },
    {
     "name": "stdout",
     "output_type": "stream",
     "text": [
      "Epoch 6, train loss 2.2026, valid loss 2.5173\n",
      "Early stopping counter 1 of 5\n"
     ]
    },
    {
     "name": "stderr",
     "output_type": "stream",
     "text": [
      "440it [00:11, 37.00it/s]\n"
     ]
    },
    {
     "name": "stdout",
     "output_type": "stream",
     "text": [
      "Epoch 7, train loss 2.1861, valid loss 2.5078\n"
     ]
    },
    {
     "name": "stderr",
     "output_type": "stream",
     "text": [
      "440it [00:12, 34.83it/s]\n"
     ]
    },
    {
     "name": "stdout",
     "output_type": "stream",
     "text": [
      "Epoch 8, train loss 2.1721, valid loss 2.4994\n"
     ]
    },
    {
     "name": "stderr",
     "output_type": "stream",
     "text": [
      "440it [00:12, 35.09it/s]\n"
     ]
    },
    {
     "name": "stdout",
     "output_type": "stream",
     "text": [
      "Epoch 9, train loss 2.1618, valid loss 2.5050\n",
      "Early stopping counter 1 of 5\n"
     ]
    },
    {
     "name": "stderr",
     "output_type": "stream",
     "text": [
      "440it [00:12, 35.71it/s]\n"
     ]
    },
    {
     "name": "stdout",
     "output_type": "stream",
     "text": [
      "Epoch 10, train loss 2.1509, valid loss 2.4817\n"
     ]
    },
    {
     "name": "stderr",
     "output_type": "stream",
     "text": [
      "440it [00:12, 34.78it/s]\n"
     ]
    },
    {
     "name": "stdout",
     "output_type": "stream",
     "text": [
      "Epoch 11, train loss 2.1415, valid loss 2.4837\n",
      "Early stopping counter 1 of 5\n"
     ]
    },
    {
     "name": "stderr",
     "output_type": "stream",
     "text": [
      "440it [00:12, 35.03it/s]\n"
     ]
    },
    {
     "name": "stdout",
     "output_type": "stream",
     "text": [
      "Epoch 12, train loss 2.1327, valid loss 2.4837\n",
      "Early stopping counter 2 of 5\n"
     ]
    },
    {
     "name": "stderr",
     "output_type": "stream",
     "text": [
      "440it [00:12, 35.66it/s]\n"
     ]
    },
    {
     "name": "stdout",
     "output_type": "stream",
     "text": [
      "Epoch 13, train loss 2.1258, valid loss 2.4975\n",
      "Epoch 00014: reducing learning rate of group 0 to 5.0000e-05.\n",
      "Early stopping counter 3 of 5\n"
     ]
    },
    {
     "name": "stderr",
     "output_type": "stream",
     "text": [
      "440it [00:12, 35.30it/s]\n"
     ]
    },
    {
     "name": "stdout",
     "output_type": "stream",
     "text": [
      "Epoch 14, train loss 2.1131, valid loss 2.4920\n",
      "Early stopping counter 4 of 5\n"
     ]
    },
    {
     "name": "stderr",
     "output_type": "stream",
     "text": [
      "440it [00:12, 34.85it/s]\n"
     ]
    },
    {
     "name": "stdout",
     "output_type": "stream",
     "text": [
      "Epoch 15, train loss 2.1093, valid loss 2.4839\n",
      "Early stopping counter 5 of 5\n",
      "Early stopping\n"
     ]
    },
    {
     "name": "stderr",
     "output_type": "stream",
     "text": [
      "440it [00:14, 30.77it/s]\n"
     ]
    },
    {
     "name": "stdout",
     "output_type": "stream",
     "text": [
      "Epoch 0, train loss 3.0937, valid loss 2.9128\n"
     ]
    },
    {
     "name": "stderr",
     "output_type": "stream",
     "text": [
      "440it [00:12, 35.44it/s]\n"
     ]
    },
    {
     "name": "stdout",
     "output_type": "stream",
     "text": [
      "Epoch 1, train loss 2.8006, valid loss 2.7625\n"
     ]
    },
    {
     "name": "stderr",
     "output_type": "stream",
     "text": [
      "440it [00:12, 34.88it/s]\n"
     ]
    },
    {
     "name": "stdout",
     "output_type": "stream",
     "text": [
      "Epoch 2, train loss 2.6944, valid loss 2.6536\n"
     ]
    },
    {
     "name": "stderr",
     "output_type": "stream",
     "text": [
      "440it [00:12, 34.53it/s]\n"
     ]
    },
    {
     "name": "stdout",
     "output_type": "stream",
     "text": [
      "Epoch 3, train loss 2.5822, valid loss 2.5156\n"
     ]
    },
    {
     "name": "stderr",
     "output_type": "stream",
     "text": [
      "440it [00:12, 35.02it/s]\n"
     ]
    },
    {
     "name": "stdout",
     "output_type": "stream",
     "text": [
      "Epoch 4, train loss 2.4238, valid loss 2.3728\n"
     ]
    },
    {
     "name": "stderr",
     "output_type": "stream",
     "text": [
      "440it [00:12, 35.54it/s]\n"
     ]
    },
    {
     "name": "stdout",
     "output_type": "stream",
     "text": [
      "Epoch 5, train loss 2.3178, valid loss 2.2847\n"
     ]
    },
    {
     "name": "stderr",
     "output_type": "stream",
     "text": [
      "440it [00:12, 35.78it/s]\n"
     ]
    },
    {
     "name": "stdout",
     "output_type": "stream",
     "text": [
      "Epoch 6, train loss 2.2636, valid loss 2.2589\n"
     ]
    },
    {
     "name": "stderr",
     "output_type": "stream",
     "text": [
      "440it [00:12, 34.14it/s]\n"
     ]
    },
    {
     "name": "stdout",
     "output_type": "stream",
     "text": [
      "Epoch 7, train loss 2.2306, valid loss 2.2433\n"
     ]
    },
    {
     "name": "stderr",
     "output_type": "stream",
     "text": [
      "440it [00:12, 35.68it/s]\n"
     ]
    },
    {
     "name": "stdout",
     "output_type": "stream",
     "text": [
      "Epoch 8, train loss 2.2073, valid loss 2.2190\n"
     ]
    },
    {
     "name": "stderr",
     "output_type": "stream",
     "text": [
      "440it [00:12, 34.55it/s]\n"
     ]
    },
    {
     "name": "stdout",
     "output_type": "stream",
     "text": [
      "Epoch 9, train loss 2.1886, valid loss 2.2063\n"
     ]
    },
    {
     "name": "stderr",
     "output_type": "stream",
     "text": [
      "440it [00:12, 34.58it/s]\n"
     ]
    },
    {
     "name": "stdout",
     "output_type": "stream",
     "text": [
      "Epoch 10, train loss 2.1721, valid loss 2.1994\n"
     ]
    },
    {
     "name": "stderr",
     "output_type": "stream",
     "text": [
      "440it [00:12, 34.80it/s]\n"
     ]
    },
    {
     "name": "stdout",
     "output_type": "stream",
     "text": [
      "Epoch 11, train loss 2.1598, valid loss 2.2046\n",
      "Early stopping counter 1 of 5\n"
     ]
    },
    {
     "name": "stderr",
     "output_type": "stream",
     "text": [
      "440it [00:12, 34.57it/s]\n"
     ]
    },
    {
     "name": "stdout",
     "output_type": "stream",
     "text": [
      "Epoch 12, train loss 2.1493, valid loss 2.1916\n"
     ]
    },
    {
     "name": "stderr",
     "output_type": "stream",
     "text": [
      "440it [00:12, 35.62it/s]\n"
     ]
    },
    {
     "name": "stdout",
     "output_type": "stream",
     "text": [
      "Epoch 13, train loss 2.1387, valid loss 2.1856\n"
     ]
    },
    {
     "name": "stderr",
     "output_type": "stream",
     "text": [
      "440it [00:12, 34.61it/s]\n"
     ]
    },
    {
     "name": "stdout",
     "output_type": "stream",
     "text": [
      "Epoch 14, train loss 2.1288, valid loss 2.1949\n",
      "Early stopping counter 1 of 5\n"
     ]
    },
    {
     "name": "stderr",
     "output_type": "stream",
     "text": [
      "440it [00:12, 35.61it/s]\n"
     ]
    },
    {
     "name": "stdout",
     "output_type": "stream",
     "text": [
      "Epoch 15, train loss 2.1185, valid loss 2.1963\n",
      "Early stopping counter 2 of 5\n"
     ]
    },
    {
     "name": "stderr",
     "output_type": "stream",
     "text": [
      "440it [00:12, 34.42it/s]\n"
     ]
    },
    {
     "name": "stdout",
     "output_type": "stream",
     "text": [
      "Epoch 16, train loss 2.1107, valid loss 2.1962\n",
      "Epoch 00017: reducing learning rate of group 0 to 5.0000e-05.\n",
      "Early stopping counter 3 of 5\n"
     ]
    },
    {
     "name": "stderr",
     "output_type": "stream",
     "text": [
      "440it [00:12, 35.78it/s]\n"
     ]
    },
    {
     "name": "stdout",
     "output_type": "stream",
     "text": [
      "Epoch 17, train loss 2.0977, valid loss 2.1904\n",
      "Early stopping counter 4 of 5\n"
     ]
    },
    {
     "name": "stderr",
     "output_type": "stream",
     "text": [
      "440it [00:12, 34.77it/s]\n"
     ]
    },
    {
     "name": "stdout",
     "output_type": "stream",
     "text": [
      "Epoch 18, train loss 2.0936, valid loss 2.1838\n"
     ]
    },
    {
     "name": "stderr",
     "output_type": "stream",
     "text": [
      "440it [00:12, 35.22it/s]\n"
     ]
    },
    {
     "name": "stdout",
     "output_type": "stream",
     "text": [
      "Epoch 19, train loss 2.0881, valid loss 2.1972\n",
      "Early stopping counter 1 of 5\n"
     ]
    },
    {
     "name": "stderr",
     "output_type": "stream",
     "text": [
      "440it [00:12, 35.00it/s]\n"
     ]
    },
    {
     "name": "stdout",
     "output_type": "stream",
     "text": [
      "Epoch 20, train loss 2.0848, valid loss 2.1890\n",
      "Early stopping counter 2 of 5\n"
     ]
    },
    {
     "name": "stderr",
     "output_type": "stream",
     "text": [
      "440it [00:12, 34.86it/s]\n"
     ]
    },
    {
     "name": "stdout",
     "output_type": "stream",
     "text": [
      "Epoch 21, train loss 2.0807, valid loss 2.1953\n",
      "Epoch 00022: reducing learning rate of group 0 to 2.5000e-05.\n",
      "Early stopping counter 3 of 5\n"
     ]
    },
    {
     "name": "stderr",
     "output_type": "stream",
     "text": [
      "440it [00:12, 35.28it/s]\n"
     ]
    },
    {
     "name": "stdout",
     "output_type": "stream",
     "text": [
      "Epoch 22, train loss 2.0739, valid loss 2.1877\n",
      "Early stopping counter 4 of 5\n"
     ]
    },
    {
     "name": "stderr",
     "output_type": "stream",
     "text": [
      "440it [00:12, 34.68it/s]\n"
     ]
    },
    {
     "name": "stdout",
     "output_type": "stream",
     "text": [
      "Epoch 23, train loss 2.0711, valid loss 2.1916\n",
      "Early stopping counter 5 of 5\n",
      "Early stopping\n"
     ]
    }
   ],
   "source": [
    "# two speakers\n",
    "from DGAC_MP.intent_prediction import IntentPredictor\n",
    "\n",
    "DATA_PATH = \"/cephfs/home/ledneva/ru_datasets/close_domain_datasets/focus/utils/ru_train_data.json\"\n",
    "language = \"ru\"\n",
    "num_speakers = 2\n",
    "num_clusters_per_stage = [200, 30]\n",
    "\n",
    "\n",
    "intent_predictor = IntentPredictor(DATA_PATH, language, num_speakers, num_clusters_per_stage)\n",
    "intent_predictor.dialog_graph_auto_construction()\n",
    "intent_predictor.dump_dialog_graph(\"/cephfs/home/ledneva/report/\")\n",
    "intent_predictor.dgl_graphs_preprocessing()\n",
    "intent_predictor.init_message_passing_model(\"/cephfs/home/ledneva/report/\")"
   ]
  },
  {
   "cell_type": "code",
   "execution_count": 1,
   "id": "4a0fa46c",
   "metadata": {
    "scrolled": true
   },
   "outputs": [
    {
     "name": "stdout",
     "output_type": "stream",
     "text": [
      "The data is loading...\n",
      "The embeddings are loading...\n",
      "==============================WARNING: DEPRECATED!==============================\n",
      "WARNING! This version of bitsandbytes is deprecated. Please switch to `pip install bitsandbytes` and the new repo: https://github.com/TimDettmers/bitsandbytes\n",
      "==============================WARNING: DEPRECATED!==============================\n",
      "The first stage of clustering has begun...\n",
      "Clustering 134757 points in 768D to 200 clusters, redo 1 times, 25 iterations\n",
      "  Preprocessing in 0.07 s\n",
      "  Iteration 24 (16.71 s, search 16.29 s): objective=59122.5 imbalance=1.244 nsplit=0       \n",
      "The second stage of clustering has begun...\n"
     ]
    },
    {
     "name": "stderr",
     "output_type": "stream",
     "text": [
      "WARNING clustering 200 points to 30 centroids: please provide at least 1170 training points\n"
     ]
    },
    {
     "name": "stdout",
     "output_type": "stream",
     "text": [
      "The searching clusters for validation has begun...\n"
     ]
    },
    {
     "name": "stderr",
     "output_type": "stream",
     "text": [
      "126it [00:04, 31.38it/s]\n"
     ]
    },
    {
     "name": "stdout",
     "output_type": "stream",
     "text": [
      "Epoch 0, train loss 3.2147, valid loss 3.2505\n"
     ]
    },
    {
     "name": "stderr",
     "output_type": "stream",
     "text": [
      "126it [00:03, 33.39it/s]\n"
     ]
    },
    {
     "name": "stdout",
     "output_type": "stream",
     "text": [
      "Epoch 1, train loss 3.0956, valid loss 3.2265\n"
     ]
    },
    {
     "name": "stderr",
     "output_type": "stream",
     "text": [
      "126it [00:03, 35.96it/s]\n"
     ]
    },
    {
     "name": "stdout",
     "output_type": "stream",
     "text": [
      "Epoch 2, train loss 3.0874, valid loss 3.2177\n"
     ]
    },
    {
     "name": "stderr",
     "output_type": "stream",
     "text": [
      "126it [00:03, 37.81it/s]\n"
     ]
    },
    {
     "name": "stdout",
     "output_type": "stream",
     "text": [
      "Epoch 3, train loss 3.0712, valid loss 3.1906\n"
     ]
    },
    {
     "name": "stderr",
     "output_type": "stream",
     "text": [
      "126it [00:03, 38.91it/s]\n"
     ]
    },
    {
     "name": "stdout",
     "output_type": "stream",
     "text": [
      "Epoch 4, train loss 3.0422, valid loss 3.1686\n"
     ]
    },
    {
     "name": "stderr",
     "output_type": "stream",
     "text": [
      "126it [00:03, 37.06it/s]\n"
     ]
    },
    {
     "name": "stdout",
     "output_type": "stream",
     "text": [
      "Epoch 5, train loss 3.0278, valid loss 3.1570\n"
     ]
    },
    {
     "name": "stderr",
     "output_type": "stream",
     "text": [
      "126it [00:03, 35.89it/s]\n"
     ]
    },
    {
     "name": "stdout",
     "output_type": "stream",
     "text": [
      "Epoch 6, train loss 3.0176, valid loss 3.1488\n"
     ]
    },
    {
     "name": "stderr",
     "output_type": "stream",
     "text": [
      "126it [00:03, 36.86it/s]\n"
     ]
    },
    {
     "name": "stdout",
     "output_type": "stream",
     "text": [
      "Epoch 7, train loss 3.0097, valid loss 3.1419\n"
     ]
    },
    {
     "name": "stderr",
     "output_type": "stream",
     "text": [
      "126it [00:03, 36.78it/s]\n"
     ]
    },
    {
     "name": "stdout",
     "output_type": "stream",
     "text": [
      "Epoch 8, train loss 3.0022, valid loss 3.1372\n"
     ]
    },
    {
     "name": "stderr",
     "output_type": "stream",
     "text": [
      "126it [00:03, 35.40it/s]\n"
     ]
    },
    {
     "name": "stdout",
     "output_type": "stream",
     "text": [
      "Epoch 9, train loss 2.9952, valid loss 3.1253\n"
     ]
    },
    {
     "name": "stderr",
     "output_type": "stream",
     "text": [
      "126it [00:03, 35.73it/s]\n"
     ]
    },
    {
     "name": "stdout",
     "output_type": "stream",
     "text": [
      "Epoch 10, train loss 2.9862, valid loss 3.1323\n",
      "Early stopping counter 1 of 5\n"
     ]
    },
    {
     "name": "stderr",
     "output_type": "stream",
     "text": [
      "126it [00:03, 37.28it/s]\n"
     ]
    },
    {
     "name": "stdout",
     "output_type": "stream",
     "text": [
      "Epoch 11, train loss 2.9810, valid loss 3.1271\n",
      "Early stopping counter 2 of 5\n"
     ]
    },
    {
     "name": "stderr",
     "output_type": "stream",
     "text": [
      "126it [00:03, 35.43it/s]\n"
     ]
    },
    {
     "name": "stdout",
     "output_type": "stream",
     "text": [
      "Epoch 12, train loss 2.9718, valid loss 3.1130\n"
     ]
    },
    {
     "name": "stderr",
     "output_type": "stream",
     "text": [
      "126it [00:03, 37.07it/s]\n"
     ]
    },
    {
     "name": "stdout",
     "output_type": "stream",
     "text": [
      "Epoch 13, train loss 2.9646, valid loss 3.1108\n"
     ]
    },
    {
     "name": "stderr",
     "output_type": "stream",
     "text": [
      "126it [00:03, 34.66it/s]\n"
     ]
    },
    {
     "name": "stdout",
     "output_type": "stream",
     "text": [
      "Epoch 14, train loss 2.9614, valid loss 3.1087\n"
     ]
    },
    {
     "name": "stderr",
     "output_type": "stream",
     "text": [
      "126it [00:03, 33.85it/s]\n"
     ]
    },
    {
     "name": "stdout",
     "output_type": "stream",
     "text": [
      "Epoch 15, train loss 2.9521, valid loss 3.1007\n"
     ]
    },
    {
     "name": "stderr",
     "output_type": "stream",
     "text": [
      "126it [00:03, 32.82it/s]\n"
     ]
    },
    {
     "name": "stdout",
     "output_type": "stream",
     "text": [
      "Epoch 16, train loss 2.9483, valid loss 3.1147\n",
      "Early stopping counter 1 of 5\n"
     ]
    },
    {
     "name": "stderr",
     "output_type": "stream",
     "text": [
      "126it [00:04, 30.49it/s]\n"
     ]
    },
    {
     "name": "stdout",
     "output_type": "stream",
     "text": [
      "Epoch 17, train loss 2.9418, valid loss 3.1070\n",
      "Early stopping counter 2 of 5\n"
     ]
    },
    {
     "name": "stderr",
     "output_type": "stream",
     "text": [
      "126it [00:03, 32.37it/s]\n"
     ]
    },
    {
     "name": "stdout",
     "output_type": "stream",
     "text": [
      "Epoch 18, train loss 2.9371, valid loss 3.1099\n",
      "Epoch 00019: reducing learning rate of group 0 to 5.0000e-05.\n",
      "Early stopping counter 3 of 5\n"
     ]
    },
    {
     "name": "stderr",
     "output_type": "stream",
     "text": [
      "126it [00:03, 36.33it/s]\n"
     ]
    },
    {
     "name": "stdout",
     "output_type": "stream",
     "text": [
      "Epoch 19, train loss 2.9280, valid loss 3.1011\n",
      "Early stopping counter 4 of 5\n"
     ]
    },
    {
     "name": "stderr",
     "output_type": "stream",
     "text": [
      "126it [00:03, 34.72it/s]\n"
     ]
    },
    {
     "name": "stdout",
     "output_type": "stream",
     "text": [
      "Epoch 20, train loss 2.9234, valid loss 3.1052\n",
      "Early stopping counter 5 of 5\n",
      "Early stopping\n"
     ]
    }
   ],
   "source": [
    "# one speaker\n",
    "from DGAC_MP.intent_prediction import IntentPredictor\n",
    "\n",
    "DATA_PATH = \"/cephfs/home/ledneva/ru_datasets/open_domain_datasets/persona/utils/persona.json\"\n",
    "language = \"ru\"\n",
    "num_speakers = 1\n",
    "num_clusters_per_stage = [200, 30]\n",
    "\n",
    "\n",
    "intent_predictor = IntentPredictor(DATA_PATH, language, num_speakers, num_clusters_per_stage)\n",
    "intent_predictor.dialog_graph_auto_construction()\n",
    "intent_predictor.dump_dialog_graph(\"/cephfs/home/ledneva/Work/\")\n",
    "intent_predictor.dgl_graphs_preprocessing()\n",
    "intent_predictor.init_message_passing_model(\"/cephfs/home/ledneva/Work/\")"
   ]
  },
  {
   "cell_type": "markdown",
   "id": "ec728840",
   "metadata": {},
   "source": [
    "## Второй модуль. Пример использования"
   ]
  },
  {
   "cell_type": "markdown",
   "id": "b7120026",
   "metadata": {},
   "source": [
    "Для инициализации класса в качестве параметров подается следующее:\n",
    "- Путь к бинарному файлу объекта класса Clusters \n",
    "- Пути к модели [MP_PATH]/моделям [USER_MP_PATH, SYSTEM_MP_PATH] message passing\n",
    "\n",
    "Для ранжирования: \n",
    "- Диалог: *Dict[String, List]* имеет два ключа и задает ровно один диалог:\n",
    "    - Ключ utterance, значение - список реплик диалога\n",
    "    - Ключ speaker, значение - список ролей. На i-ой позиции номер роли участника диалога, которому принадлежит i-ая реплика\n",
    "    - 0 - user, 1 - system\n",
    "- Список реплик, который будет ранжироваться"
   ]
  },
  {
   "cell_type": "code",
   "execution_count": 1,
   "id": "bbbd536c",
   "metadata": {},
   "outputs": [],
   "source": [
    "from Ranking.ranking import Ranking"
   ]
  },
  {
   "cell_type": "code",
   "execution_count": 2,
   "id": "10ad8f4e",
   "metadata": {},
   "outputs": [
    {
     "name": "stdout",
     "output_type": "stream",
     "text": [
      "==============================WARNING: DEPRECATED!==============================\n",
      "WARNING! This version of bitsandbytes is deprecated. Please switch to `pip install bitsandbytes` and the new repo: https://github.com/TimDettmers/bitsandbytes\n",
      "==============================WARNING: DEPRECATED!==============================\n",
      "0.04327370598912239 Первое мероприятие состоялось на стадионе 24 октября 1971 года.\n",
      "0.04327370598912239 Это произошло 6 миллионов лет назад.\n",
      "0.04327370598912239 Арена закрылась в июне 2010 года.\n",
      "0.04327370598912239 Парк был основан в 1955 году.\n",
      "0.02989807538688183 Технический университет Дармштадт в топ-25 университетов Европы с наибольшим научным влиянием по рейтингу QS World University Rankings 2020.\n",
      "0.02989807538688183 В рейтинге университетов Европы Технический университет Дармштадт занимает 15-е место\n",
      "0.01891816034913063 Погода прекрасная, не находите?\n",
      "0.0022742259316146374 Максимальная длина гавани Отаго составляет 21 километр (13 миль).\n",
      "0.0022742259316146374 Он имеет ширину около 94 миль на самом узком конце и имеет много островов, которые вы бы любили, находясь в его водах.\n"
     ]
    }
   ],
   "source": [
    "# two speakers\n",
    "GRAPH_PATH = \"/cephfs/home/ledneva/report/dialog_graph\"\n",
    "USER_MP_PATH = \"/cephfs/home/ledneva/report/GAT_system\"\n",
    "SYSTEM_MP_PATH = \"/cephfs/home/ledneva/report/GAT_user\"\n",
    "MODEL_PATHS = [USER_MP_PATH, SYSTEM_MP_PATH]\n",
    "\n",
    "ranking = Ranking(GRAPH_PATH, MODEL_PATHS)\n",
    "\n",
    "dialog = {\n",
    "    'utterance': ['Ух ты, это потрясающе!',\n",
    "          'Я подумал, что тебе понравится, так как ты интересуешься военной историей.',\n",
    "          'Есть здесь живописный вид?',\n",
    "          'Да, здесь есть прекрасный вид на залив Гумбольдта и полуостров Самоа.',\n",
    "          'Какие предметы представлены на выставке?',\n",
    "          'На выставке много предметов, включая гаубицкую пушку и историческое здание больницы.',\n",
    "          'Что еще мы можем увидеть в парке?',\n",
    "          'Здесь есть исторический сад, в котором есть лекарственные, съедобные и декоративные растения.',\n",
    "          'Когда парк открылся?'\n",
    "    ],\n",
    "    'speaker': [0, 1, 0, 1, 0, 1, 0, 1, 0]\n",
    "}\n",
    "\n",
    "next_utterances = [\n",
    "     'Технический университет Дармштадт в топ-25 университетов Европы с наибольшим научным влиянием по рейтингу QS World University Rankings 2020.',\n",
    "     'В рейтинге университетов Европы Технический университет Дармштадт занимает 15-е место',\n",
    "     'Погода прекрасная, не находите?',\n",
    "     'Максимальная длина гавани Отаго составляет 21 километр (13 миль).',\n",
    "     'Первое мероприятие состоялось на стадионе 24 октября 1971 года.',\n",
    "     'Это произошло 6 миллионов лет назад.',\n",
    "     'Он имеет ширину около 94 миль на самом узком конце и имеет много островов, которые вы бы любили, находясь в его водах.',\n",
    "     'Арена закрылась в июне 2010 года.',\n",
    "     'Парк был основан в 1955 году.'\n",
    "]\n",
    "\n",
    "ranking_result = ranking.ranking(dialog, next_utterances)\n",
    "\n",
    "for utterance, score in ranking_result:\n",
    "    print(score, utterance)"
   ]
  },
  {
   "cell_type": "code",
   "execution_count": 3,
   "id": "c0534aec",
   "metadata": {},
   "outputs": [
    {
     "name": "stdout",
     "output_type": "stream",
     "text": [
      "0.40109777450561523 Я официант, еще я очень люблю играть в футбол, а у тебя какие увлечения?\n",
      "0.018103819340467453 ты была зза границей? потому что я обожаю путешествовать\n",
      "0.016486627981066704 Привет ) Давай пообщаемся\n",
      "0.016486627981066704 Привет🤘🏻\n",
      "0.012018606066703796 Пока\n",
      "0.005359158851206303 А кем ты работаешь? Я не смогу потянуть жилье, работая сантехником?\n",
      "0.004500804003328085 Классно, я люблю кошек\n",
      "0.0018605998484417796 А у меня нет детей((( Всё ещё в переди\n",
      "0.0007383472402580082 Я каменщик. Нормально платят, поэтому год разам переехали ближний работе в Москву Вы тоже из Москвы?\n",
      "0.0005477697122842073 Ну если ни чего, то мне пора бежать ты не Вместе сказали))) Ладно пока\n",
      "0.0005477697122842073 Все хорошо, да я ничем не занимаюсь, на пенсии уже\n"
     ]
    }
   ],
   "source": [
    "# one speaker\n",
    "GRAPH_PATH = \"/cephfs/home/ledneva/Work/dialog_graph\"\n",
    "MP_PATH = \"/cephfs/home/ledneva/Work/GAT\"\n",
    "\n",
    "MODEL_PATHS = [MP_PATH]\n",
    "\n",
    "ranking = Ranking(GRAPH_PATH, MODEL_PATHS)\n",
    "\n",
    "dialog = {\n",
    "    'utterance': [\n",
    "          'Привет',\n",
    "          'Привет Хочешь расскажу интересную историю про меня?',\n",
    "          'Конечно! Долго рассказываешь',\n",
    "          'Я работал в больнице хирургом, очень серьёзная и трудная профессия. Мои родители были врачами , и я с самого детства мечтал быть как они, и приносить пользу людям. И как оказалось, я очень талантливый врач',\n",
    "          'Давай быстрей, а то я няней рабртаю, надо с детьми идти гулять и играть',\n",
    "          'Расскажи о себе Какое хобби у тебя? У меня верховая езда и лошади',\n",
    "          'Ничего особенного .. просто люблю детей и поэтому работаю няней.',\n",
    "    ],\n",
    "    'speaker': [0, 0, 0, 0, 0, 0, 0, 0]\n",
    "}\n",
    "\n",
    "next_utterances = [\n",
    "    'А у меня нет детей((( Всё ещё в переди',\n",
    "    'Классно, я люблю кошек',\n",
    "    'Привет ) Давай пообщаемся',\n",
    "    'Ну если ни чего, то мне пора бежать ты не Вместе сказали))) Ладно пока',\n",
    "    'ты была зза границей? потому что я обожаю путешествовать',\n",
    "    'Я каменщик. Нормально платят, поэтому год разам переехали ближний работе в Москву Вы тоже из Москвы?',\n",
    "    'Пока',\n",
    "    'Все хорошо, да я ничем не занимаюсь, на пенсии уже',\n",
    "    'А кем ты работаешь? Я не смогу потянуть жилье, работая сантехником?',\n",
    "    'Я официант, еще я очень люблю играть в футбол, а у тебя какие увлечения?',\n",
    "    'Привет🤘🏻',\n",
    "]\n",
    "\n",
    "ranking_result = ranking.ranking(dialog, next_utterances)\n",
    "\n",
    "for utterance, score in ranking_result:\n",
    "    print(score, utterance)"
   ]
  },
  {
   "cell_type": "code",
   "execution_count": null,
   "id": "a510ef0e",
   "metadata": {},
   "outputs": [],
   "source": []
  }
 ],
 "metadata": {
  "kernelspec": {
   "display_name": "Python 3 (ipykernel)",
   "language": "python",
   "name": "python3"
  },
  "language_info": {
   "codemirror_mode": {
    "name": "ipython",
    "version": 3
   },
   "file_extension": ".py",
   "mimetype": "text/x-python",
   "name": "python",
   "nbconvert_exporter": "python",
   "pygments_lexer": "ipython3",
   "version": "3.9.12"
  }
 },
 "nbformat": 4,
 "nbformat_minor": 5
}
