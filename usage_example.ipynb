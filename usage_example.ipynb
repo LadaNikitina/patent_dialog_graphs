{
 "cells": [
  {
   "cell_type": "markdown",
   "id": "57ed936f",
   "metadata": {},
   "source": [
    "# Первый модуль. Пример использования"
   ]
  },
  {
   "cell_type": "markdown",
   "id": "90c7ab1e",
   "metadata": {},
   "source": [
    "На вход подаются следующие параметры:\n",
    "- Число ролей (на данный момент поддерживаются одна и две роли соответственно)\n",
    "- Путь к датасету в формате json, представляющему собой список диалогов:  *List[Dict[String, List]]*, со\n",
    "- *Dict[String, List]* имеет два ключа и задает ровно один диалог:\n",
    "    - Ключ utterance, значение - список реплик диалога\n",
    "    - Ключ speaker, значение - список ролей. На i-ой позиции номер роли участника диалога, которому принадлежит i-ая реплика\n",
    "    - 0 - user, 1 - system\n",
    "- Язык датасета\n",
    "- Число кластеров для автопостроения диалогового графа"
   ]
  },
  {
   "cell_type": "code",
   "execution_count": 1,
   "id": "d187efbd",
   "metadata": {},
   "outputs": [
    {
     "name": "stderr",
     "output_type": "stream",
     "text": [
      "/home/kuznetsov/doc/report_repo/venv/lib/python3.8/site-packages/tqdm/auto.py:21: TqdmWarning: IProgress not found. Please update jupyter and ipywidgets. See https://ipywidgets.readthedocs.io/en/stable/user_install.html\n",
      "  from .autonotebook import tqdm as notebook_tqdm\n"
     ]
    },
    {
     "name": "stdout",
     "output_type": "stream",
     "text": [
      "The data is loading...\n",
      "The embeddings are loading...\n",
      "The first stage of clustering has begun...\n",
      "Clustering 5928 points in 768D to 200 clusters, redo 1 times, 25 iterations\n",
      "  Preprocessing in 0.00 s\n",
      "  Iteration 5 (0.19 s, search 0.18 s): objective=1892.24 imbalance=1.366 nsplit=0       \r"
     ]
    },
    {
     "name": "stderr",
     "output_type": "stream",
     "text": [
      "WARNING clustering 5928 points to 200 centroids: please provide at least 7800 training points\n"
     ]
    },
    {
     "name": "stdout",
     "output_type": "stream",
     "text": [
      "  Iteration 24 (0.77 s, search 0.75 s): objective=1871.61 imbalance=1.356 nsplit=0       \n",
      "Clustering 5928 points in 768D to 200 clusters, redo 1 times, 25 iterations\n",
      "  Preprocessing in 0.00 s\n",
      "  Iteration 0 (0.03 s, search 0.03 s): objective=3696.12 imbalance=1.651 nsplit=0       \r"
     ]
    },
    {
     "name": "stderr",
     "output_type": "stream",
     "text": [
      "WARNING clustering 5928 points to 200 centroids: please provide at least 7800 training points\n"
     ]
    },
    {
     "name": "stdout",
     "output_type": "stream",
     "text": [
      "  Iteration 24 (0.78 s, search 0.76 s): objective=2149.79 imbalance=1.326 nsplit=0       \n",
      "The second stage of clustering has begun...\n"
     ]
    },
    {
     "name": "stderr",
     "output_type": "stream",
     "text": [
      "WARNING clustering 200 points to 30 centroids: please provide at least 300 training points\n",
      "WARNING clustering 200 points to 30 centroids: please provide at least 300 training points\n"
     ]
    },
    {
     "name": "stdout",
     "output_type": "stream",
     "text": [
      "The searching clusters for validation has begun...\n"
     ]
    },
    {
     "name": "stderr",
     "output_type": "stream",
     "text": [
      "47it [00:01, 23.68it/s]\n"
     ]
    },
    {
     "name": "stdout",
     "output_type": "stream",
     "text": [
      "Epoch 0, train loss 3.2405, valid loss 3.1982\n"
     ]
    },
    {
     "name": "stderr",
     "output_type": "stream",
     "text": [
      "47it [00:01, 35.89it/s]\n"
     ]
    },
    {
     "name": "stdout",
     "output_type": "stream",
     "text": [
      "Epoch 1, train loss 3.0755, valid loss 3.1608\n"
     ]
    },
    {
     "name": "stderr",
     "output_type": "stream",
     "text": [
      "47it [00:01, 36.14it/s]\n"
     ]
    },
    {
     "name": "stdout",
     "output_type": "stream",
     "text": [
      "Epoch 2, train loss 3.0250, valid loss 3.1182\n"
     ]
    },
    {
     "name": "stderr",
     "output_type": "stream",
     "text": [
      "47it [00:01, 33.84it/s]\n"
     ]
    },
    {
     "name": "stdout",
     "output_type": "stream",
     "text": [
      "Epoch 3, train loss 2.9655, valid loss 3.1022\n"
     ]
    },
    {
     "name": "stderr",
     "output_type": "stream",
     "text": [
      "47it [00:01, 34.95it/s]\n"
     ]
    },
    {
     "name": "stdout",
     "output_type": "stream",
     "text": [
      "Epoch 4, train loss 2.8920, valid loss 3.0450\n"
     ]
    },
    {
     "name": "stderr",
     "output_type": "stream",
     "text": [
      "47it [00:01, 33.04it/s]\n"
     ]
    },
    {
     "name": "stdout",
     "output_type": "stream",
     "text": [
      "Epoch 5, train loss 2.8291, valid loss 3.0365\n"
     ]
    },
    {
     "name": "stderr",
     "output_type": "stream",
     "text": [
      "47it [00:01, 30.83it/s]\n"
     ]
    },
    {
     "name": "stdout",
     "output_type": "stream",
     "text": [
      "Epoch 6, train loss 2.7947, valid loss 3.0218\n"
     ]
    },
    {
     "name": "stderr",
     "output_type": "stream",
     "text": [
      "47it [00:01, 29.58it/s]\n"
     ]
    },
    {
     "name": "stdout",
     "output_type": "stream",
     "text": [
      "Epoch 7, train loss 2.7677, valid loss 2.9887\n"
     ]
    },
    {
     "name": "stderr",
     "output_type": "stream",
     "text": [
      "47it [00:01, 31.42it/s]\n"
     ]
    },
    {
     "name": "stdout",
     "output_type": "stream",
     "text": [
      "Epoch 8, train loss 2.7434, valid loss 2.9677\n"
     ]
    },
    {
     "name": "stderr",
     "output_type": "stream",
     "text": [
      "47it [00:01, 30.33it/s]\n"
     ]
    },
    {
     "name": "stdout",
     "output_type": "stream",
     "text": [
      "Epoch 9, train loss 2.7168, valid loss 2.9496\n"
     ]
    },
    {
     "name": "stderr",
     "output_type": "stream",
     "text": [
      "47it [00:01, 31.17it/s]\n"
     ]
    },
    {
     "name": "stdout",
     "output_type": "stream",
     "text": [
      "Epoch 10, train loss 2.6882, valid loss 2.9397\n"
     ]
    },
    {
     "name": "stderr",
     "output_type": "stream",
     "text": [
      "47it [00:01, 31.46it/s]\n"
     ]
    },
    {
     "name": "stdout",
     "output_type": "stream",
     "text": [
      "Epoch 11, train loss 2.6654, valid loss 2.9078\n"
     ]
    },
    {
     "name": "stderr",
     "output_type": "stream",
     "text": [
      "47it [00:01, 29.92it/s]\n"
     ]
    },
    {
     "name": "stdout",
     "output_type": "stream",
     "text": [
      "Epoch 12, train loss 2.6383, valid loss 2.9142\n",
      "Early stopping counter 1 of 5\n"
     ]
    },
    {
     "name": "stderr",
     "output_type": "stream",
     "text": [
      "47it [00:01, 30.30it/s]\n"
     ]
    },
    {
     "name": "stdout",
     "output_type": "stream",
     "text": [
      "Epoch 13, train loss 2.6155, valid loss 2.9007\n"
     ]
    },
    {
     "name": "stderr",
     "output_type": "stream",
     "text": [
      "47it [00:01, 30.20it/s]\n"
     ]
    },
    {
     "name": "stdout",
     "output_type": "stream",
     "text": [
      "Epoch 14, train loss 2.5909, valid loss 2.8910\n"
     ]
    },
    {
     "name": "stderr",
     "output_type": "stream",
     "text": [
      "47it [00:01, 30.97it/s]\n"
     ]
    },
    {
     "name": "stdout",
     "output_type": "stream",
     "text": [
      "Epoch 15, train loss 2.5735, valid loss 2.8489\n"
     ]
    },
    {
     "name": "stderr",
     "output_type": "stream",
     "text": [
      "47it [00:01, 31.60it/s]\n"
     ]
    },
    {
     "name": "stdout",
     "output_type": "stream",
     "text": [
      "Epoch 16, train loss 2.5556, valid loss 2.8449\n"
     ]
    },
    {
     "name": "stderr",
     "output_type": "stream",
     "text": [
      "47it [00:01, 29.89it/s]\n"
     ]
    },
    {
     "name": "stdout",
     "output_type": "stream",
     "text": [
      "Epoch 17, train loss 2.5374, valid loss 2.8488\n",
      "Early stopping counter 1 of 5\n"
     ]
    },
    {
     "name": "stderr",
     "output_type": "stream",
     "text": [
      "47it [00:01, 30.35it/s]\n"
     ]
    },
    {
     "name": "stdout",
     "output_type": "stream",
     "text": [
      "Epoch 18, train loss 2.5179, valid loss 2.8356\n"
     ]
    },
    {
     "name": "stderr",
     "output_type": "stream",
     "text": [
      "47it [00:01, 31.55it/s]\n"
     ]
    },
    {
     "name": "stdout",
     "output_type": "stream",
     "text": [
      "Epoch 19, train loss 2.5055, valid loss 2.8184\n"
     ]
    },
    {
     "name": "stderr",
     "output_type": "stream",
     "text": [
      "47it [00:01, 30.56it/s]\n"
     ]
    },
    {
     "name": "stdout",
     "output_type": "stream",
     "text": [
      "Epoch 20, train loss 2.4942, valid loss 2.8160\n"
     ]
    },
    {
     "name": "stderr",
     "output_type": "stream",
     "text": [
      "47it [00:01, 30.60it/s]\n"
     ]
    },
    {
     "name": "stdout",
     "output_type": "stream",
     "text": [
      "Epoch 21, train loss 2.4800, valid loss 2.8077\n"
     ]
    },
    {
     "name": "stderr",
     "output_type": "stream",
     "text": [
      "47it [00:01, 31.51it/s]\n"
     ]
    },
    {
     "name": "stdout",
     "output_type": "stream",
     "text": [
      "Epoch 22, train loss 2.4643, valid loss 2.8071\n"
     ]
    },
    {
     "name": "stderr",
     "output_type": "stream",
     "text": [
      "47it [00:01, 31.43it/s]\n"
     ]
    },
    {
     "name": "stdout",
     "output_type": "stream",
     "text": [
      "Epoch 23, train loss 2.4607, valid loss 2.7831\n"
     ]
    },
    {
     "name": "stderr",
     "output_type": "stream",
     "text": [
      "47it [00:01, 31.25it/s]\n"
     ]
    },
    {
     "name": "stdout",
     "output_type": "stream",
     "text": [
      "Epoch 24, train loss 2.4478, valid loss 2.7911\n",
      "Early stopping counter 1 of 5\n"
     ]
    },
    {
     "name": "stderr",
     "output_type": "stream",
     "text": [
      "47it [00:01, 30.33it/s]\n"
     ]
    },
    {
     "name": "stdout",
     "output_type": "stream",
     "text": [
      "Epoch 25, train loss 2.4459, valid loss 2.7765\n"
     ]
    },
    {
     "name": "stderr",
     "output_type": "stream",
     "text": [
      "47it [00:01, 31.05it/s]\n"
     ]
    },
    {
     "name": "stdout",
     "output_type": "stream",
     "text": [
      "Epoch 26, train loss 2.4305, valid loss 2.7616\n"
     ]
    },
    {
     "name": "stderr",
     "output_type": "stream",
     "text": [
      "47it [00:01, 31.43it/s]\n"
     ]
    },
    {
     "name": "stdout",
     "output_type": "stream",
     "text": [
      "Epoch 27, train loss 2.4247, valid loss 2.7764\n",
      "Early stopping counter 1 of 5\n"
     ]
    },
    {
     "name": "stderr",
     "output_type": "stream",
     "text": [
      "47it [00:01, 35.16it/s]\n"
     ]
    },
    {
     "name": "stdout",
     "output_type": "stream",
     "text": [
      "Epoch 28, train loss 2.4151, valid loss 2.7652\n",
      "Early stopping counter 2 of 5\n"
     ]
    },
    {
     "name": "stderr",
     "output_type": "stream",
     "text": [
      "47it [00:01, 35.56it/s]\n"
     ]
    },
    {
     "name": "stdout",
     "output_type": "stream",
     "text": [
      "Epoch 29, train loss 2.4134, valid loss 2.7658\n",
      "Epoch 00030: reducing learning rate of group 0 to 5.0000e-05.\n",
      "Early stopping counter 3 of 5\n"
     ]
    },
    {
     "name": "stderr",
     "output_type": "stream",
     "text": [
      "47it [00:01, 35.62it/s]\n"
     ]
    },
    {
     "name": "stdout",
     "output_type": "stream",
     "text": [
      "Epoch 30, train loss 2.3955, valid loss 2.7614\n"
     ]
    },
    {
     "name": "stderr",
     "output_type": "stream",
     "text": [
      "47it [00:01, 35.63it/s]\n"
     ]
    },
    {
     "name": "stdout",
     "output_type": "stream",
     "text": [
      "Epoch 31, train loss 2.3933, valid loss 2.7984\n",
      "Early stopping counter 1 of 5\n"
     ]
    },
    {
     "name": "stderr",
     "output_type": "stream",
     "text": [
      "47it [00:01, 34.53it/s]\n"
     ]
    },
    {
     "name": "stdout",
     "output_type": "stream",
     "text": [
      "Epoch 32, train loss 2.3908, valid loss 2.7425\n"
     ]
    },
    {
     "name": "stderr",
     "output_type": "stream",
     "text": [
      "47it [00:01, 31.24it/s]\n"
     ]
    },
    {
     "name": "stdout",
     "output_type": "stream",
     "text": [
      "Epoch 33, train loss 2.3876, valid loss 2.7491\n",
      "Early stopping counter 1 of 5\n"
     ]
    },
    {
     "name": "stderr",
     "output_type": "stream",
     "text": [
      "47it [00:01, 31.52it/s]\n"
     ]
    },
    {
     "name": "stdout",
     "output_type": "stream",
     "text": [
      "Epoch 34, train loss 2.3787, valid loss 2.7755\n",
      "Early stopping counter 2 of 5\n"
     ]
    },
    {
     "name": "stderr",
     "output_type": "stream",
     "text": [
      "47it [00:01, 31.54it/s]\n"
     ]
    },
    {
     "name": "stdout",
     "output_type": "stream",
     "text": [
      "Epoch 35, train loss 2.3796, valid loss 2.7876\n",
      "Epoch 00036: reducing learning rate of group 0 to 2.5000e-05.\n",
      "Early stopping counter 3 of 5\n"
     ]
    },
    {
     "name": "stderr",
     "output_type": "stream",
     "text": [
      "47it [00:01, 30.41it/s]\n"
     ]
    },
    {
     "name": "stdout",
     "output_type": "stream",
     "text": [
      "Epoch 36, train loss 2.3749, valid loss 2.7401\n"
     ]
    },
    {
     "name": "stderr",
     "output_type": "stream",
     "text": [
      "47it [00:01, 31.21it/s]\n"
     ]
    },
    {
     "name": "stdout",
     "output_type": "stream",
     "text": [
      "Epoch 37, train loss 2.3744, valid loss 2.7646\n",
      "Early stopping counter 1 of 5\n"
     ]
    },
    {
     "name": "stderr",
     "output_type": "stream",
     "text": [
      "47it [00:01, 31.48it/s]\n"
     ]
    },
    {
     "name": "stdout",
     "output_type": "stream",
     "text": [
      "Epoch 38, train loss 2.3661, valid loss 2.7396\n"
     ]
    },
    {
     "name": "stderr",
     "output_type": "stream",
     "text": [
      "47it [00:01, 31.50it/s]\n"
     ]
    },
    {
     "name": "stdout",
     "output_type": "stream",
     "text": [
      "Epoch 39, train loss 2.3660, valid loss 2.7567\n",
      "Early stopping counter 1 of 5\n"
     ]
    },
    {
     "name": "stderr",
     "output_type": "stream",
     "text": [
      "47it [00:01, 31.56it/s]\n"
     ]
    },
    {
     "name": "stdout",
     "output_type": "stream",
     "text": [
      "Epoch 40, train loss 2.3646, valid loss 2.7535\n",
      "Early stopping counter 2 of 5\n"
     ]
    },
    {
     "name": "stderr",
     "output_type": "stream",
     "text": [
      "47it [00:01, 31.55it/s]\n"
     ]
    },
    {
     "name": "stdout",
     "output_type": "stream",
     "text": [
      "Epoch 41, train loss 2.3605, valid loss 2.7541\n",
      "Epoch 00042: reducing learning rate of group 0 to 1.2500e-05.\n",
      "Early stopping counter 3 of 5\n"
     ]
    },
    {
     "name": "stderr",
     "output_type": "stream",
     "text": [
      "47it [00:01, 30.86it/s]\n"
     ]
    },
    {
     "name": "stdout",
     "output_type": "stream",
     "text": [
      "Epoch 42, train loss 2.3564, valid loss 2.7382\n"
     ]
    },
    {
     "name": "stderr",
     "output_type": "stream",
     "text": [
      "47it [00:01, 30.38it/s]\n"
     ]
    },
    {
     "name": "stdout",
     "output_type": "stream",
     "text": [
      "Epoch 43, train loss 2.3613, valid loss 2.7421\n",
      "Early stopping counter 1 of 5\n"
     ]
    },
    {
     "name": "stderr",
     "output_type": "stream",
     "text": [
      "47it [00:01, 31.33it/s]\n"
     ]
    },
    {
     "name": "stdout",
     "output_type": "stream",
     "text": [
      "Epoch 44, train loss 2.3607, valid loss 2.7792\n",
      "Early stopping counter 2 of 5\n"
     ]
    },
    {
     "name": "stderr",
     "output_type": "stream",
     "text": [
      "47it [00:01, 32.29it/s]\n"
     ]
    },
    {
     "name": "stdout",
     "output_type": "stream",
     "text": [
      "Epoch 45, train loss 2.3562, valid loss 2.7783\n",
      "Epoch 00046: reducing learning rate of group 0 to 6.2500e-06.\n",
      "Early stopping counter 3 of 5\n"
     ]
    },
    {
     "name": "stderr",
     "output_type": "stream",
     "text": [
      "47it [00:01, 35.64it/s]\n"
     ]
    },
    {
     "name": "stdout",
     "output_type": "stream",
     "text": [
      "Epoch 46, train loss 2.3596, valid loss 2.7433\n",
      "Early stopping counter 4 of 5\n"
     ]
    },
    {
     "name": "stderr",
     "output_type": "stream",
     "text": [
      "47it [00:01, 35.66it/s]\n"
     ]
    },
    {
     "name": "stdout",
     "output_type": "stream",
     "text": [
      "Epoch 47, train loss 2.3580, valid loss 2.7646\n",
      "Early stopping counter 5 of 5\n",
      "Early stopping\n"
     ]
    },
    {
     "name": "stderr",
     "output_type": "stream",
     "text": [
      "47it [00:01, 29.64it/s]\n"
     ]
    },
    {
     "name": "stdout",
     "output_type": "stream",
     "text": [
      "Epoch 0, train loss 3.3097, valid loss 3.2939\n"
     ]
    },
    {
     "name": "stderr",
     "output_type": "stream",
     "text": [
      "47it [00:01, 34.47it/s]\n"
     ]
    },
    {
     "name": "stdout",
     "output_type": "stream",
     "text": [
      "Epoch 1, train loss 3.2277, valid loss 3.2902\n"
     ]
    },
    {
     "name": "stderr",
     "output_type": "stream",
     "text": [
      "47it [00:01, 35.55it/s]\n"
     ]
    },
    {
     "name": "stdout",
     "output_type": "stream",
     "text": [
      "Epoch 2, train loss 3.1865, valid loss 3.2414\n"
     ]
    },
    {
     "name": "stderr",
     "output_type": "stream",
     "text": [
      "47it [00:01, 35.81it/s]\n"
     ]
    },
    {
     "name": "stdout",
     "output_type": "stream",
     "text": [
      "Epoch 3, train loss 3.1172, valid loss 3.1794\n"
     ]
    },
    {
     "name": "stderr",
     "output_type": "stream",
     "text": [
      "47it [00:01, 35.48it/s]\n"
     ]
    },
    {
     "name": "stdout",
     "output_type": "stream",
     "text": [
      "Epoch 4, train loss 3.0254, valid loss 3.0908\n"
     ]
    },
    {
     "name": "stderr",
     "output_type": "stream",
     "text": [
      "47it [00:01, 35.52it/s]\n"
     ]
    },
    {
     "name": "stdout",
     "output_type": "stream",
     "text": [
      "Epoch 5, train loss 2.9349, valid loss 3.0062\n"
     ]
    },
    {
     "name": "stderr",
     "output_type": "stream",
     "text": [
      "47it [00:01, 35.71it/s]\n"
     ]
    },
    {
     "name": "stdout",
     "output_type": "stream",
     "text": [
      "Epoch 6, train loss 2.8570, valid loss 2.9374\n"
     ]
    },
    {
     "name": "stderr",
     "output_type": "stream",
     "text": [
      "47it [00:01, 35.57it/s]\n"
     ]
    },
    {
     "name": "stdout",
     "output_type": "stream",
     "text": [
      "Epoch 7, train loss 2.7881, valid loss 2.8504\n"
     ]
    },
    {
     "name": "stderr",
     "output_type": "stream",
     "text": [
      "47it [00:01, 35.65it/s]\n"
     ]
    },
    {
     "name": "stdout",
     "output_type": "stream",
     "text": [
      "Epoch 8, train loss 2.7279, valid loss 2.8165\n"
     ]
    },
    {
     "name": "stderr",
     "output_type": "stream",
     "text": [
      "47it [00:01, 35.53it/s]\n"
     ]
    },
    {
     "name": "stdout",
     "output_type": "stream",
     "text": [
      "Epoch 9, train loss 2.6735, valid loss 2.7217\n"
     ]
    },
    {
     "name": "stderr",
     "output_type": "stream",
     "text": [
      "47it [00:01, 35.54it/s]\n"
     ]
    },
    {
     "name": "stdout",
     "output_type": "stream",
     "text": [
      "Epoch 10, train loss 2.6244, valid loss 2.7074\n"
     ]
    },
    {
     "name": "stderr",
     "output_type": "stream",
     "text": [
      "47it [00:01, 35.66it/s]\n"
     ]
    },
    {
     "name": "stdout",
     "output_type": "stream",
     "text": [
      "Epoch 11, train loss 2.5805, valid loss 2.6679\n"
     ]
    },
    {
     "name": "stderr",
     "output_type": "stream",
     "text": [
      "47it [00:01, 35.56it/s]\n"
     ]
    },
    {
     "name": "stdout",
     "output_type": "stream",
     "text": [
      "Epoch 12, train loss 2.5493, valid loss 2.6064\n"
     ]
    },
    {
     "name": "stderr",
     "output_type": "stream",
     "text": [
      "47it [00:01, 35.13it/s]\n"
     ]
    },
    {
     "name": "stdout",
     "output_type": "stream",
     "text": [
      "Epoch 13, train loss 2.5105, valid loss 2.5695\n"
     ]
    },
    {
     "name": "stderr",
     "output_type": "stream",
     "text": [
      "47it [00:01, 35.44it/s]\n"
     ]
    },
    {
     "name": "stdout",
     "output_type": "stream",
     "text": [
      "Epoch 14, train loss 2.4754, valid loss 2.5491\n"
     ]
    },
    {
     "name": "stderr",
     "output_type": "stream",
     "text": [
      "47it [00:01, 35.62it/s]\n"
     ]
    },
    {
     "name": "stdout",
     "output_type": "stream",
     "text": [
      "Epoch 15, train loss 2.4469, valid loss 2.4986\n"
     ]
    },
    {
     "name": "stderr",
     "output_type": "stream",
     "text": [
      "47it [00:01, 35.54it/s]\n"
     ]
    },
    {
     "name": "stdout",
     "output_type": "stream",
     "text": [
      "Epoch 16, train loss 2.4245, valid loss 2.5079\n",
      "Early stopping counter 1 of 5\n"
     ]
    },
    {
     "name": "stderr",
     "output_type": "stream",
     "text": [
      "47it [00:01, 34.54it/s]\n"
     ]
    },
    {
     "name": "stdout",
     "output_type": "stream",
     "text": [
      "Epoch 17, train loss 2.3961, valid loss 2.4319\n"
     ]
    },
    {
     "name": "stderr",
     "output_type": "stream",
     "text": [
      "47it [00:01, 34.48it/s]\n"
     ]
    },
    {
     "name": "stdout",
     "output_type": "stream",
     "text": [
      "Epoch 18, train loss 2.3717, valid loss 2.4016\n"
     ]
    },
    {
     "name": "stderr",
     "output_type": "stream",
     "text": [
      "47it [00:01, 35.46it/s]\n"
     ]
    },
    {
     "name": "stdout",
     "output_type": "stream",
     "text": [
      "Epoch 19, train loss 2.3483, valid loss 2.3774\n"
     ]
    },
    {
     "name": "stderr",
     "output_type": "stream",
     "text": [
      "47it [00:01, 35.71it/s]\n"
     ]
    },
    {
     "name": "stdout",
     "output_type": "stream",
     "text": [
      "Epoch 20, train loss 2.3291, valid loss 2.3667\n"
     ]
    },
    {
     "name": "stderr",
     "output_type": "stream",
     "text": [
      "47it [00:01, 35.72it/s]\n"
     ]
    },
    {
     "name": "stdout",
     "output_type": "stream",
     "text": [
      "Epoch 21, train loss 2.3115, valid loss 2.3439\n"
     ]
    },
    {
     "name": "stderr",
     "output_type": "stream",
     "text": [
      "47it [00:01, 35.38it/s]\n"
     ]
    },
    {
     "name": "stdout",
     "output_type": "stream",
     "text": [
      "Epoch 22, train loss 2.2902, valid loss 2.3248\n"
     ]
    },
    {
     "name": "stderr",
     "output_type": "stream",
     "text": [
      "47it [00:01, 35.59it/s]\n"
     ]
    },
    {
     "name": "stdout",
     "output_type": "stream",
     "text": [
      "Epoch 23, train loss 2.2731, valid loss 2.2965\n"
     ]
    },
    {
     "name": "stderr",
     "output_type": "stream",
     "text": [
      "47it [00:01, 35.62it/s]\n"
     ]
    },
    {
     "name": "stdout",
     "output_type": "stream",
     "text": [
      "Epoch 24, train loss 2.2645, valid loss 2.2865\n"
     ]
    },
    {
     "name": "stderr",
     "output_type": "stream",
     "text": [
      "47it [00:01, 35.16it/s]\n"
     ]
    },
    {
     "name": "stdout",
     "output_type": "stream",
     "text": [
      "Epoch 25, train loss 2.2426, valid loss 2.2889\n",
      "Early stopping counter 1 of 5\n"
     ]
    },
    {
     "name": "stderr",
     "output_type": "stream",
     "text": [
      "47it [00:01, 35.61it/s]\n"
     ]
    },
    {
     "name": "stdout",
     "output_type": "stream",
     "text": [
      "Epoch 26, train loss 2.2347, valid loss 2.2813\n"
     ]
    },
    {
     "name": "stderr",
     "output_type": "stream",
     "text": [
      "47it [00:01, 35.42it/s]\n"
     ]
    },
    {
     "name": "stdout",
     "output_type": "stream",
     "text": [
      "Epoch 27, train loss 2.2215, valid loss 2.2271\n"
     ]
    },
    {
     "name": "stderr",
     "output_type": "stream",
     "text": [
      "47it [00:01, 34.87it/s]\n"
     ]
    },
    {
     "name": "stdout",
     "output_type": "stream",
     "text": [
      "Epoch 28, train loss 2.2068, valid loss 2.2299\n",
      "Early stopping counter 1 of 5\n"
     ]
    },
    {
     "name": "stderr",
     "output_type": "stream",
     "text": [
      "47it [00:01, 34.62it/s]\n"
     ]
    },
    {
     "name": "stdout",
     "output_type": "stream",
     "text": [
      "Epoch 29, train loss 2.2003, valid loss 2.2260\n"
     ]
    },
    {
     "name": "stderr",
     "output_type": "stream",
     "text": [
      "47it [00:01, 34.34it/s]\n"
     ]
    },
    {
     "name": "stdout",
     "output_type": "stream",
     "text": [
      "Epoch 30, train loss 2.1898, valid loss 2.2164\n"
     ]
    },
    {
     "name": "stderr",
     "output_type": "stream",
     "text": [
      "47it [00:01, 35.04it/s]\n"
     ]
    },
    {
     "name": "stdout",
     "output_type": "stream",
     "text": [
      "Epoch 31, train loss 2.1717, valid loss 2.2042\n"
     ]
    },
    {
     "name": "stderr",
     "output_type": "stream",
     "text": [
      "47it [00:01, 35.26it/s]\n"
     ]
    },
    {
     "name": "stdout",
     "output_type": "stream",
     "text": [
      "Epoch 32, train loss 2.1637, valid loss 2.2136\n",
      "Early stopping counter 1 of 5\n"
     ]
    },
    {
     "name": "stderr",
     "output_type": "stream",
     "text": [
      "47it [00:01, 35.27it/s]\n"
     ]
    },
    {
     "name": "stdout",
     "output_type": "stream",
     "text": [
      "Epoch 33, train loss 2.1553, valid loss 2.1911\n"
     ]
    },
    {
     "name": "stderr",
     "output_type": "stream",
     "text": [
      "47it [00:01, 35.42it/s]\n"
     ]
    },
    {
     "name": "stdout",
     "output_type": "stream",
     "text": [
      "Epoch 34, train loss 2.1456, valid loss 2.1816\n"
     ]
    },
    {
     "name": "stderr",
     "output_type": "stream",
     "text": [
      "47it [00:01, 35.37it/s]\n"
     ]
    },
    {
     "name": "stdout",
     "output_type": "stream",
     "text": [
      "Epoch 35, train loss 2.1439, valid loss 2.1699\n"
     ]
    },
    {
     "name": "stderr",
     "output_type": "stream",
     "text": [
      "47it [00:01, 35.41it/s]\n"
     ]
    },
    {
     "name": "stdout",
     "output_type": "stream",
     "text": [
      "Epoch 36, train loss 2.1253, valid loss 2.1754\n",
      "Early stopping counter 1 of 5\n"
     ]
    },
    {
     "name": "stderr",
     "output_type": "stream",
     "text": [
      "47it [00:01, 35.32it/s]\n"
     ]
    },
    {
     "name": "stdout",
     "output_type": "stream",
     "text": [
      "Epoch 37, train loss 2.1207, valid loss 2.1854\n",
      "Early stopping counter 2 of 5\n"
     ]
    },
    {
     "name": "stderr",
     "output_type": "stream",
     "text": [
      "47it [00:01, 35.11it/s]\n"
     ]
    },
    {
     "name": "stdout",
     "output_type": "stream",
     "text": [
      "Epoch 38, train loss 2.1162, valid loss 2.1719\n",
      "Epoch 00039: reducing learning rate of group 0 to 5.0000e-05.\n",
      "Early stopping counter 3 of 5\n"
     ]
    },
    {
     "name": "stderr",
     "output_type": "stream",
     "text": [
      "47it [00:01, 35.38it/s]\n"
     ]
    },
    {
     "name": "stdout",
     "output_type": "stream",
     "text": [
      "Epoch 39, train loss 2.1104, valid loss 2.2082\n",
      "Early stopping counter 4 of 5\n"
     ]
    },
    {
     "name": "stderr",
     "output_type": "stream",
     "text": [
      "47it [00:01, 34.98it/s]\n"
     ]
    },
    {
     "name": "stdout",
     "output_type": "stream",
     "text": [
      "Epoch 40, train loss 2.1050, valid loss 2.1928\n",
      "Early stopping counter 5 of 5\n",
      "Early stopping\n"
     ]
    }
   ],
   "source": [
    "# two speakers\n",
    "from DGAC_MP.intent_prediction import IntentPredictor\n",
    "\n",
    "DATA_PATH = \"/cephfs/home/ledneva/ru_datasets/close_domain_datasets/focus/utils/ru_train_data.json\"\n",
    "DATA_PATH = \"data/small_data.json\"\n",
    "EMBEDDINGS_FILE = \"test_dir/ru_embeddings.npy\"\n",
    "language = \"ru\"\n",
    "num_speakers = 2\n",
    "num_clusters_per_stage = [200, 30]\n",
    "\n",
    "\n",
    "intent_predictor = IntentPredictor(DATA_PATH, EMBEDDINGS_FILE, language, num_speakers, num_clusters_per_stage)\n",
    "intent_predictor.dialog_graph_auto_construction()\n",
    "intent_predictor.dump_dialog_graph(\"./test_dir/dialog_graph\")\n",
    "intent_predictor.dgl_graphs_preprocessing()\n",
    "intent_predictor.init_message_passing_model(\"./test_dir/\")"
   ]
  },
  {
   "cell_type": "code",
   "execution_count": 1,
   "id": "b5bd8c7f",
   "metadata": {
    "scrolled": true
   },
   "outputs": [
    {
     "name": "stdout",
     "output_type": "stream",
     "text": [
      "The data is loading...\n",
      "The embeddings are loading...\n",
      "==============================WARNING: DEPRECATED!==============================\n",
      "WARNING! This version of bitsandbytes is deprecated. Please switch to `pip install bitsandbytes` and the new repo: https://github.com/TimDettmers/bitsandbytes\n",
      "==============================WARNING: DEPRECATED!==============================\n",
      "The first stage of clustering has begun...\n",
      "Clustering 134757 points in 768D to 200 clusters, redo 1 times, 25 iterations\n",
      "  Preprocessing in 0.07 s\n",
      "  Iteration 24 (16.71 s, search 16.29 s): objective=59122.5 imbalance=1.244 nsplit=0       \n",
      "The second stage of clustering has begun...\n"
     ]
    },
    {
     "name": "stderr",
     "output_type": "stream",
     "text": [
      "WARNING clustering 200 points to 30 centroids: please provide at least 1170 training points\n"
     ]
    },
    {
     "name": "stdout",
     "output_type": "stream",
     "text": [
      "The searching clusters for validation has begun...\n"
     ]
    },
    {
     "name": "stderr",
     "output_type": "stream",
     "text": [
      "126it [00:04, 31.38it/s]\n"
     ]
    },
    {
     "name": "stdout",
     "output_type": "stream",
     "text": [
      "Epoch 0, train loss 3.2147, valid loss 3.2505\n"
     ]
    },
    {
     "name": "stderr",
     "output_type": "stream",
     "text": [
      "126it [00:03, 33.39it/s]\n"
     ]
    },
    {
     "name": "stdout",
     "output_type": "stream",
     "text": [
      "Epoch 1, train loss 3.0956, valid loss 3.2265\n"
     ]
    },
    {
     "name": "stderr",
     "output_type": "stream",
     "text": [
      "126it [00:03, 35.96it/s]\n"
     ]
    },
    {
     "name": "stdout",
     "output_type": "stream",
     "text": [
      "Epoch 2, train loss 3.0874, valid loss 3.2177\n"
     ]
    },
    {
     "name": "stderr",
     "output_type": "stream",
     "text": [
      "126it [00:03, 37.81it/s]\n"
     ]
    },
    {
     "name": "stdout",
     "output_type": "stream",
     "text": [
      "Epoch 3, train loss 3.0712, valid loss 3.1906\n"
     ]
    },
    {
     "name": "stderr",
     "output_type": "stream",
     "text": [
      "126it [00:03, 38.91it/s]\n"
     ]
    },
    {
     "name": "stdout",
     "output_type": "stream",
     "text": [
      "Epoch 4, train loss 3.0422, valid loss 3.1686\n"
     ]
    },
    {
     "name": "stderr",
     "output_type": "stream",
     "text": [
      "126it [00:03, 37.06it/s]\n"
     ]
    },
    {
     "name": "stdout",
     "output_type": "stream",
     "text": [
      "Epoch 5, train loss 3.0278, valid loss 3.1570\n"
     ]
    },
    {
     "name": "stderr",
     "output_type": "stream",
     "text": [
      "126it [00:03, 35.89it/s]\n"
     ]
    },
    {
     "name": "stdout",
     "output_type": "stream",
     "text": [
      "Epoch 6, train loss 3.0176, valid loss 3.1488\n"
     ]
    },
    {
     "name": "stderr",
     "output_type": "stream",
     "text": [
      "126it [00:03, 36.86it/s]\n"
     ]
    },
    {
     "name": "stdout",
     "output_type": "stream",
     "text": [
      "Epoch 7, train loss 3.0097, valid loss 3.1419\n"
     ]
    },
    {
     "name": "stderr",
     "output_type": "stream",
     "text": [
      "126it [00:03, 36.78it/s]\n"
     ]
    },
    {
     "name": "stdout",
     "output_type": "stream",
     "text": [
      "Epoch 8, train loss 3.0022, valid loss 3.1372\n"
     ]
    },
    {
     "name": "stderr",
     "output_type": "stream",
     "text": [
      "126it [00:03, 35.40it/s]\n"
     ]
    },
    {
     "name": "stdout",
     "output_type": "stream",
     "text": [
      "Epoch 9, train loss 2.9952, valid loss 3.1253\n"
     ]
    },
    {
     "name": "stderr",
     "output_type": "stream",
     "text": [
      "126it [00:03, 35.73it/s]\n"
     ]
    },
    {
     "name": "stdout",
     "output_type": "stream",
     "text": [
      "Epoch 10, train loss 2.9862, valid loss 3.1323\n",
      "Early stopping counter 1 of 5\n"
     ]
    },
    {
     "name": "stderr",
     "output_type": "stream",
     "text": [
      "126it [00:03, 37.28it/s]\n"
     ]
    },
    {
     "name": "stdout",
     "output_type": "stream",
     "text": [
      "Epoch 11, train loss 2.9810, valid loss 3.1271\n",
      "Early stopping counter 2 of 5\n"
     ]
    },
    {
     "name": "stderr",
     "output_type": "stream",
     "text": [
      "126it [00:03, 35.43it/s]\n"
     ]
    },
    {
     "name": "stdout",
     "output_type": "stream",
     "text": [
      "Epoch 12, train loss 2.9718, valid loss 3.1130\n"
     ]
    },
    {
     "name": "stderr",
     "output_type": "stream",
     "text": [
      "126it [00:03, 37.07it/s]\n"
     ]
    },
    {
     "name": "stdout",
     "output_type": "stream",
     "text": [
      "Epoch 13, train loss 2.9646, valid loss 3.1108\n"
     ]
    },
    {
     "name": "stderr",
     "output_type": "stream",
     "text": [
      "126it [00:03, 34.66it/s]\n"
     ]
    },
    {
     "name": "stdout",
     "output_type": "stream",
     "text": [
      "Epoch 14, train loss 2.9614, valid loss 3.1087\n"
     ]
    },
    {
     "name": "stderr",
     "output_type": "stream",
     "text": [
      "126it [00:03, 33.85it/s]\n"
     ]
    },
    {
     "name": "stdout",
     "output_type": "stream",
     "text": [
      "Epoch 15, train loss 2.9521, valid loss 3.1007\n"
     ]
    },
    {
     "name": "stderr",
     "output_type": "stream",
     "text": [
      "126it [00:03, 32.82it/s]\n"
     ]
    },
    {
     "name": "stdout",
     "output_type": "stream",
     "text": [
      "Epoch 16, train loss 2.9483, valid loss 3.1147\n",
      "Early stopping counter 1 of 5\n"
     ]
    },
    {
     "name": "stderr",
     "output_type": "stream",
     "text": [
      "126it [00:04, 30.49it/s]\n"
     ]
    },
    {
     "name": "stdout",
     "output_type": "stream",
     "text": [
      "Epoch 17, train loss 2.9418, valid loss 3.1070\n",
      "Early stopping counter 2 of 5\n"
     ]
    },
    {
     "name": "stderr",
     "output_type": "stream",
     "text": [
      "126it [00:03, 32.37it/s]\n"
     ]
    },
    {
     "name": "stdout",
     "output_type": "stream",
     "text": [
      "Epoch 18, train loss 2.9371, valid loss 3.1099\n",
      "Epoch 00019: reducing learning rate of group 0 to 5.0000e-05.\n",
      "Early stopping counter 3 of 5\n"
     ]
    },
    {
     "name": "stderr",
     "output_type": "stream",
     "text": [
      "126it [00:03, 36.33it/s]\n"
     ]
    },
    {
     "name": "stdout",
     "output_type": "stream",
     "text": [
      "Epoch 19, train loss 2.9280, valid loss 3.1011\n",
      "Early stopping counter 4 of 5\n"
     ]
    },
    {
     "name": "stderr",
     "output_type": "stream",
     "text": [
      "126it [00:03, 34.72it/s]\n"
     ]
    },
    {
     "name": "stdout",
     "output_type": "stream",
     "text": [
      "Epoch 20, train loss 2.9234, valid loss 3.1052\n",
      "Early stopping counter 5 of 5\n",
      "Early stopping\n"
     ]
    }
   ],
   "source": [
    "# one speaker\n",
    "from DGAC_MP.intent_prediction import IntentPredictor\n",
    "\n",
    "DATA_PATH = \"/cephfs/home/ledneva/ru_datasets/open_domain_datasets/persona/utils/persona.json\"\n",
    "EMBEDDINGS_FILE = \"test_dir/ru_embeddings.npy\"\n",
    "language = \"ru\"\n",
    "num_speakers = 1\n",
    "num_clusters_per_stage = [200, 30]\n",
    "\n",
    "\n",
    "intent_predictor = IntentPredictor(DATA_PATH, EMBEDDINGS_FILE, language, num_speakers, num_clusters_per_stage)\n",
    "intent_predictor.dialog_graph_auto_construction()\n",
    "intent_predictor.dump_dialog_graph(\"./test_dir/dialog_graph\")\n",
    "intent_predictor.dgl_graphs_preprocessing()\n",
    "intent_predictor.init_message_passing_model(\"./test_dir/\")"
   ]
  },
  {
   "cell_type": "markdown",
   "id": "ec728840",
   "metadata": {},
   "source": [
    "## Второй модуль. Пример использования"
   ]
  },
  {
   "cell_type": "markdown",
   "id": "b7120026",
   "metadata": {},
   "source": [
    "Для инициализации класса в качестве параметров подается следующее:\n",
    "- Путь к бинарному файлу объекта класса Clusters \n",
    "- Пути к модели [MP_PATH]/моделям [USER_MP_PATH, SYSTEM_MP_PATH] message passing\n",
    "\n",
    "Для ранжирования: \n",
    "- Диалог: *Dict[String, List]* имеет два ключа и задает ровно один диалог:\n",
    "    - Ключ utterance, значение - список реплик диалога\n",
    "    - Ключ speaker, значение - список ролей. На i-ой позиции номер роли участника диалога, которому принадлежит i-ая реплика\n",
    "    - 0 - user, 1 - system\n",
    "- Список реплик, который будет ранжироваться"
   ]
  },
  {
   "cell_type": "code",
   "execution_count": 2,
   "id": "bbbd536c",
   "metadata": {},
   "outputs": [],
   "source": [
    "from Ranking.ranking import Ranking"
   ]
  },
  {
   "cell_type": "code",
   "execution_count": 3,
   "id": "10ad8f4e",
   "metadata": {},
   "outputs": [
    {
     "name": "stdout",
     "output_type": "stream",
     "text": [
      "0.8620098185496761 Первое мероприятие состоялось на стадионе 24 октября 1971 года.\n",
      "0.8677958544994865 Погода прекрасная, не находите?\n",
      "0.8718253961149073 Парк был основан в 1955 году.\n",
      "0.8822416282929706 Арена закрылась в июне 2010 года.\n",
      "0.9106671180844818 Это произошло 6 миллионов лет назад.\n",
      "0.9124531312616594 Технический университет Дармштадт в топ-25 университетов Европы с наибольшим научным влиянием по рейтингу QS World University Rankings 2020.\n",
      "0.9233801644760838 Максимальная длина гавани Отаго составляет 21 километр (13 миль).\n",
      "0.9402308321632906 В рейтинге университетов Европы Технический университет Дармштадт занимает 15-е место\n"
     ]
    }
   ],
   "source": [
    "# two speakers\n",
    "GRAPH_PATH = \"./test_dir/dialog_graph\"\n",
    "USER_MP_PATH = \"./test_dir/GAT_system\"\n",
    "SYSTEM_MP_PATH = \"./test_dir/GAT_user\"\n",
    "MODEL_PATHS = [USER_MP_PATH, SYSTEM_MP_PATH]\n",
    "\n",
    "ranking = Ranking(GRAPH_PATH, MODEL_PATHS)\n",
    "\n",
    "dialog = {\n",
    "    'utterance': ['Ух ты, это потрясающе!',\n",
    "          'Я подумал, что тебе понравится, так как ты интересуешься военной историей.',\n",
    "          'Есть здесь живописный вид?',\n",
    "          'Да, здесь есть прекрасный вид на залив Гумбольдта и полуостров Самоа.',\n",
    "          'Какие предметы представлены на выставке?',\n",
    "          'На выставке много предметов, включая гаубицкую пушку и историческое здание больницы.',\n",
    "          'Что еще мы можем увидеть в парке?',\n",
    "          'Здесь есть исторический сад, в котором есть лекарственные, съедобные и декоративные растения.',\n",
    "          'Когда парк открылся?'\n",
    "    ],\n",
    "    'speaker': [0, 1, 0, 1, 0, 1, 0, 1, 0]\n",
    "}\n",
    "\n",
    "next_utterances = [\n",
    "     'Технический университет Дармштадт в топ-25 университетов Европы с наибольшим научным влиянием по рейтингу QS World University Rankings 2020.',\n",
    "     'В рейтинге университетов Европы Технический университет Дармштадт занимает 15-е место',\n",
    "     'Погода прекрасная, не находите?',\n",
    "     'Максимальная длина гавани Отаго составляет 21 километр (13 миль).',\n",
    "     'Первое мероприятие состоялось на стадионе 24 октября 1971 года.',\n",
    "     'Это произошло 6 миллионов лет назад.',\n",
    "     'Арена закрылась в июне 2010 года.',\n",
    "     'Парк был основан в 1955 году.'\n",
    "]\n",
    "\n",
    "ranking_result = ranking.ranking(dialog, next_utterances)\n",
    "\n",
    "for utterance, score in ranking_result:\n",
    "    print(score, utterance)"
   ]
  },
  {
   "cell_type": "code",
   "execution_count": 3,
   "id": "a0635330",
   "metadata": {},
   "outputs": [
    {
     "name": "stdout",
     "output_type": "stream",
     "text": [
      "0.6617979912587288 Я официант, еще я очень люблю играть в футбол, а у тебя какие увлечения?\n",
      "0.7131227029033224 ты была зза границей? потому что я обожаю путешествовать\n",
      "0.7443566884543288 Классно, я люблю кошек\n",
      "0.7628310983699405 Все хорошо, да я ничем не занимаюсь, на пенсии уже\n",
      "0.7655468560430312 А у меня нет детей((( Всё ещё в переди\n",
      "0.8260787210588205 Я каменщик. Нормально платят, поэтому год разам переехали ближний работе в Москву Вы тоже из Москвы?\n",
      "0.8337929096246804 А кем ты работаешь? Я не смогу потянуть жилье, работая сантехником?\n",
      "0.8484109683868652 Ну если ни чего, то мне пора бежать ты не Вместе сказали))) Ладно пока\n",
      "0.8969117473682783 Привет ) Давай пообщаемся\n",
      "0.9861402356268686 Привет🤘🏻\n",
      "1.0613601251390405 Пока\n"
     ]
    }
   ],
   "source": [
    "# one speaker\n",
    "GRAPH_PATH = \"/cephfs/home/ledneva/Work/dialog_graph\"\n",
    "MP_PATH = \"/cephfs/home/ledneva/Work/GAT\"\n",
    "\n",
    "MODEL_PATHS = [MP_PATH]\n",
    "\n",
    "ranking = Ranking(GRAPH_PATH, MODEL_PATHS)\n",
    "\n",
    "dialog = {\n",
    "    'utterance': [\n",
    "          'Привет',\n",
    "          'Привет Хочешь расскажу интересную историю про меня?',\n",
    "          'Конечно! Долго рассказываешь',\n",
    "          'Я работал в больнице хирургом, очень серьёзная и трудная профессия. Мои родители были врачами , и я с самого детства мечтал быть как они, и приносить пользу людям. И как оказалось, я очень талантливый врач',\n",
    "          'Давай быстрей, а то я няней рабртаю, надо с детьми идти гулять и играть',\n",
    "          'Расскажи о себе Какое хобби у тебя? У меня верховая езда и лошади',\n",
    "          'Ничего особенного .. просто люблю детей и поэтому работаю няней.',\n",
    "    ],\n",
    "    'speaker': [0, 0, 0, 0, 0, 0, 0, 0]\n",
    "}\n",
    "\n",
    "next_utterances = [\n",
    "    'А у меня нет детей((( Всё ещё в переди',\n",
    "    'Классно, я люблю кошек',\n",
    "    'Привет ) Давай пообщаемся',\n",
    "    'Ну если ни чего, то мне пора бежать ты не Вместе сказали))) Ладно пока',\n",
    "    'ты была зза границей? потому что я обожаю путешествовать',\n",
    "    'Я каменщик. Нормально платят, поэтому год разам переехали ближний работе в Москву Вы тоже из Москвы?',\n",
    "    'Пока',\n",
    "    'Все хорошо, да я ничем не занимаюсь, на пенсии уже',\n",
    "    'А кем ты работаешь? Я не смогу потянуть жилье, работая сантехником?',\n",
    "    'Я официант, еще я очень люблю играть в футбол, а у тебя какие увлечения?',\n",
    "    'Привет🤘🏻',\n",
    "]\n",
    "\n",
    "ranking_result = ranking.ranking(dialog, next_utterances)\n",
    "\n",
    "for utterance, score in ranking_result:\n",
    "    print(score, utterance)"
   ]
  },
  {
   "cell_type": "markdown",
   "id": "cb27153e",
   "metadata": {},
   "source": [
    "## Третий модуль. Пример использования"
   ]
  },
  {
   "cell_type": "code",
   "execution_count": 4,
   "id": "b5fb72d6",
   "metadata": {},
   "outputs": [],
   "source": [
    "from PersonaEmbeddings.persona_embeddings import PersonaEmbeddings\n",
    "\n",
    "GRAPH_PATH = \"./test_dir/dialog_graph\"\n",
    "\n",
    "persona_embs = PersonaEmbeddings(GRAPH_PATH)\n",
    "\n",
    "dialog = {\n",
    "    'utterance': ['Ух ты, это потрясающе!',\n",
    "          'Есть здесь живописный вид?',\n",
    "          'Какие предметы представлены на выставке?',\n",
    "          'Что еще мы можем увидеть в парке?',\n",
    "          'Когда парк открылся?'\n",
    "    ],\n",
    "    'speaker': [0, 0, 0, 0, 0]\n",
    "}\n",
    "\n",
    "persona_embedding = persona_embs.create_representation(dialog)"
   ]
  },
  {
   "cell_type": "code",
   "execution_count": 5,
   "id": "caf866dd",
   "metadata": {},
   "outputs": [
    {
     "data": {
      "text/plain": [
       "array([1., 0., 0., 0., 0., 0., 0., 0., 0., 0., 0., 0., 0., 0., 0., 0., 0.,\n",
       "       0., 0., 0., 0., 0., 0., 0., 0., 0., 0., 4., 0., 0.])"
      ]
     },
     "execution_count": 5,
     "metadata": {},
     "output_type": "execute_result"
    }
   ],
   "source": [
    "persona_embedding"
   ]
  },
  {
   "cell_type": "code",
   "execution_count": null,
   "id": "67f2ed2d",
   "metadata": {},
   "outputs": [],
   "source": []
  }
 ],
 "metadata": {
  "kernelspec": {
   "display_name": "venv",
   "language": "python",
   "name": "python3"
  },
  "language_info": {
   "codemirror_mode": {
    "name": "ipython",
    "version": 3
   },
   "file_extension": ".py",
   "mimetype": "text/x-python",
   "name": "python",
   "nbconvert_exporter": "python",
   "pygments_lexer": "ipython3",
   "version": "3.8.10"
  },
  "vscode": {
   "interpreter": {
    "hash": "31fc8afdc6672b7ef2d6961983393fb37282708839c68eac83fb10b10ae4d025"
   }
  }
 },
 "nbformat": 4,
 "nbformat_minor": 5
}
